{
  "nbformat": 4,
  "nbformat_minor": 0,
  "metadata": {
    "colab": {
      "provenance": [],
      "authorship_tag": "ABX9TyP5vID3LIfUJH9+dwu0BPSe",
      "include_colab_link": true
    },
    "kernelspec": {
      "name": "python3",
      "display_name": "Python 3"
    },
    "language_info": {
      "name": "python"
    }
  },
  "cells": [
    {
      "cell_type": "markdown",
      "metadata": {
        "id": "view-in-github",
        "colab_type": "text"
      },
      "source": [
        "<a href=\"https://colab.research.google.com/github/isys5002-itp/ISYS5002-2023-S1/blob/main/My_First_Python_Notebook.ipynb\" target=\"_parent\"><img src=\"https://colab.research.google.com/assets/colab-badge.svg\" alt=\"Open In Colab\"/></a>"
      ]
    },
    {
      "cell_type": "markdown",
      "source": [
        "# This is my first Python Notebook\n",
        "\n",
        "I will be using `print` function to display output.\n",
        "\n"
      ],
      "metadata": {
        "id": "xcx9ZFdFgwga"
      }
    },
    {
      "cell_type": "code",
      "execution_count": 1,
      "metadata": {
        "colab": {
          "base_uri": "https://localhost:8080/"
        },
        "id": "SJ-1madAfBD0",
        "outputId": "a16869a1-c65e-4f10-856e-1518961b3122"
      },
      "outputs": [
        {
          "output_type": "execute_result",
          "data": {
            "text/plain": [
              "2"
            ]
          },
          "metadata": {},
          "execution_count": 1
        }
      ],
      "source": [
        "# this is a comment\n",
        "# this is an expression\n",
        "1 + 1"
      ]
    },
    {
      "cell_type": "code",
      "source": [
        "print('Hello Rohini')\n",
        "print(\"Hello Rohini \")"
      ],
      "metadata": {
        "colab": {
          "base_uri": "https://localhost:8080/"
        },
        "id": "yiwGSBqpiIUB",
        "outputId": "17f5f969-be70-4c86-8844-d9618c3de63d"
      },
      "execution_count": 3,
      "outputs": [
        {
          "output_type": "stream",
          "name": "stdout",
          "text": [
            "Hello Rohini\n",
            "HelloRohin 3 \n"
          ]
        }
      ]
    },
    {
      "cell_type": "code",
      "source": [
        "print(1+1)\n",
        "print('1'+'1')"
      ],
      "metadata": {
        "colab": {
          "base_uri": "https://localhost:8080/"
        },
        "id": "8qR96CLyi4y4",
        "outputId": "35a53829-d5ff-48a6-d615-be84d6b1bbff"
      },
      "execution_count": 6,
      "outputs": [
        {
          "output_type": "stream",
          "name": "stdout",
          "text": [
            "2\n",
            "11\n"
          ]
        }
      ]
    },
    {
      "cell_type": "code",
      "source": [
        "print(\"Hello Sue\")"
      ],
      "metadata": {
        "colab": {
          "base_uri": "https://localhost:8080/"
        },
        "id": "HhaGlje1jNDY",
        "outputId": "32a20f27-627f-43a2-ecc7-44f36d852633"
      },
      "execution_count": 7,
      "outputs": [
        {
          "output_type": "stream",
          "name": "stdout",
          "text": [
            "Hello Sue\n"
          ]
        }
      ]
    },
    {
      "cell_type": "code",
      "source": [
        "# we use input function to get input from the user\n",
        "\n",
        "input('Please type your name: ')"
      ],
      "metadata": {
        "colab": {
          "base_uri": "https://localhost:8080/"
        },
        "id": "ifhsiToUjWTy",
        "outputId": "128ad94b-5f2f-400f-f2b2-25e8406b2694"
      },
      "execution_count": 13,
      "outputs": [
        {
          "name": "stdout",
          "output_type": "stream",
          "text": [
            "Please type your name: Ruby\n"
          ]
        }
      ]
    },
    {
      "cell_type": "code",
      "source": [
        "# input received from the user will be stored in a variable called 'name'\n",
        "\n",
        "name = input('Please type your name: ')"
      ],
      "metadata": {
        "id": "gjDO4OUDnoIR"
      },
      "execution_count": null,
      "outputs": []
    },
    {
      "cell_type": "code",
      "source": [
        "# to see what is currently stored in the variable (storage space) caleed 'name'\n",
        "name "
      ],
      "metadata": {
        "colab": {
          "base_uri": "https://localhost:8080/",
          "height": 36
        },
        "id": "CScQFjD-kH4R",
        "outputId": "0d9bd3c5-5709-48de-dc93-dcd1faec72db"
      },
      "execution_count": 14,
      "outputs": [
        {
          "output_type": "execute_result",
          "data": {
            "text/plain": [
              "'Ruby'"
            ],
            "application/vnd.google.colaboratory.intrinsic+json": {
              "type": "string"
            }
          },
          "metadata": {},
          "execution_count": 14
        }
      ]
    },
    {
      "cell_type": "code",
      "source": [
        "# we concatenate the value in the variable 'name' to the string and display/output it\n",
        "\n",
        "print(\"Hello\", name + \"! Welcome to Python programming.\")\n",
        "print(\"Hello \" + name)"
      ],
      "metadata": {
        "colab": {
          "base_uri": "https://localhost:8080/"
        },
        "id": "60a-uC39jk0h",
        "outputId": "d45b5e66-2ada-4884-b803-d68f94eb02fc"
      },
      "execution_count": 20,
      "outputs": [
        {
          "output_type": "stream",
          "name": "stdout",
          "text": [
            "Hello Ruby! Welcome to Python programming.\n",
            "Hello Ruby\n"
          ]
        }
      ]
    }
  ]
}
